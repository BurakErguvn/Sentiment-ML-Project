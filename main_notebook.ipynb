{
 "cells": [
  {
   "cell_type": "code",
   "execution_count": 82,
   "metadata": {},
   "outputs": [],
   "source": [
    "from textblob import TextBlob\n",
    "from sklearn import linear_model, preprocessing,model_selection\n",
    "from sklearn.feature_extraction.text import CountVectorizer\n",
    "import tensorflow \n",
    "import pandas as pd\n",
    "import numpy as np\n",
    "from textblob import Word"
   ]
  },
  {
   "cell_type": "markdown",
   "metadata": {},
   "source": [
    "Data Reading and Editing"
   ]
  },
  {
   "cell_type": "code",
   "execution_count": 83,
   "metadata": {},
   "outputs": [
    {
     "name": "stdout",
     "output_type": "stream",
     "text": [
      "Enter the sentence you want to learn whether it is positive or negative.\n"
     ]
    },
    {
     "data": {
      "text/html": [
       "<div>\n",
       "<style scoped>\n",
       "    .dataframe tbody tr th:only-of-type {\n",
       "        vertical-align: middle;\n",
       "    }\n",
       "\n",
       "    .dataframe tbody tr th {\n",
       "        vertical-align: top;\n",
       "    }\n",
       "\n",
       "    .dataframe thead th {\n",
       "        text-align: right;\n",
       "    }\n",
       "</style>\n",
       "<table border=\"1\" class=\"dataframe\">\n",
       "  <thead>\n",
       "    <tr style=\"text-align: right;\">\n",
       "      <th></th>\n",
       "      <th>Text</th>\n",
       "    </tr>\n",
       "  </thead>\n",
       "  <tbody>\n",
       "    <tr>\n",
       "      <th>0</th>\n",
       "      <td>showed might able give nice review ive asked t...</td>\n",
       "    </tr>\n",
       "  </tbody>\n",
       "</table>\n",
       "</div>"
      ],
      "text/plain": [
       "                                                Text\n",
       "0  showed might able give nice review ive asked t..."
      ]
     },
     "execution_count": 83,
     "metadata": {},
     "output_type": "execute_result"
    }
   ],
   "source": [
    "print(\"Enter the sentence you want to learn whether it is positive or negative.\")#Data can be extracted from any source, database or a csv file, but I preferred this :D\n",
    "text_orginal= input()\n",
    "text_df= pd.DataFrame([text_orginal],columns=[\"Text\"])\n",
    "text_series= text_df[\"Text\"].apply(lambda x: \" \".join(x.lower() for x in x.split())) #conversion of words to lowercase\n",
    "text_series = text_series.str.replace(\"[^\\w\\s]\",\"\",regex= True) #deleting punctuation marks\n",
    "text_series = text_series.str.replace(\"\\d\",\"\",regex=True) #deleting numbers\n",
    "text_df= pd.DataFrame(text_series,columns=[\"Text\"])\n",
    "sw = ['i', 'me', 'my', 'myself', 'we', 'our', 'ours', 'ourselves', 'you', \"you're\", \"you've\", \"you'll\", \"you'd\", 'your', 'yours', 'yourself', 'yourselves', 'he', 'him', 'his', \n",
    "      'himself', 'she', \"she's\", 'her', 'hers', 'herself', 'it', \"it's\", 'its', 'itself', 'they', 'them', 'their', 'theirs', 'themselves', 'what', 'which', 'who', 'whom', 'this', \n",
    "      'that', \"that'll\", 'these', 'those', 'am', 'is', 'are', 'was', 'were', 'be', 'been', 'being', 'have', 'has', 'had', 'having', 'do', 'does', 'did', 'doing', 'a', 'an', 'the', \n",
    "      'and', 'but', 'if', 'or', 'because', 'as', 'until', 'while', 'of', 'at', 'by', 'for', 'with', 'about', 'against', 'between', 'into', 'through', 'during', 'before', 'after', \n",
    "      'above', 'below', 'to', 'from', 'up', 'down', 'in', 'out', 'on', 'off', 'over', 'under', 'again', 'further', 'then', 'once', 'here', 'there', 'when', 'where', 'why', 'how', \n",
    "      'all', 'any', 'both', 'each', 'few', 'more', 'most', 'other', 'some', 'such', 'only', 'own', 'same', 'so', 'than', 'too', 'very', 's', 't', 'can', 'will', \n",
    "      'just', 'should', \"should've\", 'now', 'd', 'll', 'm', 'o', 're', 've', 'y', 'ain']\n",
    "text_series = text_df[\"Text\"].apply(lambda x: \" \".join(x for x in x.split() if x not in sw)) #deleting stopwords\n",
    "text_df= pd.DataFrame(text_series,columns=[\"Text\"])\n",
    "text = text_series.to_string(index= False)\n",
    "words = text.split()\n",
    "if len(words) < 20:\n",
    "    trash=0\n",
    "elif len(words) < 40:\n",
    "    delete = pd.Series(\" \".join(text_df[\"Text\"]).split()).value_counts()[-5:]\n",
    "    text_series = text_df[\"Text\"].apply(lambda x: \" \".join(x for x in x.split() if x not in delete)) #deleting rare wordsdeleting rare words\n",
    "else :\n",
    "    delete = pd.Series(\" \".join(text_df[\"Text\"]).split()).value_counts()[-10:]\n",
    "    text_series = text_df[\"Text\"].apply(lambda x: \" \".join(x for x in x.split() if x not in delete))\n",
    "text_df= pd.DataFrame(text_series,columns=[\"Text\"])\n",
    "text_series= text_df[\"Text\"].apply(lambda x: \" \".join([Word(word).lemmatize() for word in x.split()]))#lemmatization\n",
    "text_df= pd.DataFrame(text_series,columns=[\"Text\"])\n",
    "text_df"
   ]
  },
  {
   "cell_type": "markdown",
   "metadata": {},
   "source": [
    "Machine Learning"
   ]
  },
  {
   "cell_type": "code",
   "execution_count": 84,
   "metadata": {},
   "outputs": [
    {
     "name": "stdout",
     "output_type": "stream",
     "text": [
      "This sentence is negative\n"
     ]
    }
   ],
   "source": [
    "df = pd.read_csv(\"org_opmin.csv\",usecols=[\"Text\",\"Label\"])\n",
    "train_x, test_x, train_y, test_y = model_selection.train_test_split(df[\"Text\"],df[\"Label\"], random_state= 42)\n",
    "encoder = preprocessing.LabelEncoder()\n",
    "train_y = encoder.fit_transform(train_y)\n",
    "test_y = encoder.fit_transform(test_y)\n",
    "vectorizer = CountVectorizer()\n",
    "vectorizer.fit(train_x)\n",
    "x_train_count = vectorizer.transform(train_x) #This process creates a vector for each word and applies it to each line.\n",
    "loj_model = linear_model.LogisticRegression(solver=\"liblinear\",C=1,intercept_scaling=0.1,max_iter=100,penalty=\"l2\",tol=1)\n",
    "loj_model = loj_model.fit(x_train_count,train_y)\n",
    "feedback = loj_model.predict(vectorizer.transform(text_series))\n",
    "feedback = np.array2string(feedback)\n",
    "if feedback == \"[0]\":\n",
    "    print(\"This sentence is negative\")\n",
    "    feedback = \"Negative\"\n",
    "else:\n",
    "    print(\"This sentence is positive\")\n",
    "    feedback = \"Positive\""
   ]
  },
  {
   "cell_type": "markdown",
   "metadata": {},
   "source": [
    "Creating New Data"
   ]
  },
  {
   "cell_type": "code",
   "execution_count": 85,
   "metadata": {},
   "outputs": [
    {
     "name": "stdout",
     "output_type": "stream",
     "text": [
      "\n",
      "-> Did I guess correctly? Y/N\n",
      "\n",
      "-> Do you want to save the data? Y/N\n",
      "\n",
      ">>Okay, I didn't save the data.\n"
     ]
    }
   ],
   "source": [
    "i = 0\n",
    "while i == 0:\n",
    "    print(\"\\n-> Did I guess correctly? Y/N\")\n",
    "    conf2 = input()\n",
    "    print(\"\\n-> Do you want to save the data? Y/N\")\n",
    "    conf1 = input()\n",
    "    if conf1 == \"Y\":\n",
    "        if conf2 == \"Y\":\n",
    "            new_df = pd.read_csv(\"opmin2.csv\",usecols=[\"Text\",\"Label\"])\n",
    "            new_data = {\"Text\": text_orginal, \"Label\": feedback}\n",
    "            new_df.loc[len(new_df)] = new_data\n",
    "            new_df.to_csv(\"opmin2.csv\")#Here we save the predicted sentence in a new csv file labelled as new data.\n",
    "            new_org_df = pd.read_csv(\"org_opmin2.csv\",usecols=[\"Text\",\"Label\"])\n",
    "            label_df = pd.DataFrame([feedback],columns=[\"Label\"])\n",
    "            df_df= pd.concat([text_df,label_df],ignore_index= True,axis=1,)\n",
    "            df_df.columns =[\"Text\",\"Label\"]\n",
    "            new_org_df = pd.concat([new_org_df,df_df],ignore_index= True,axis=0)\n",
    "            new_org_df.to_csv(\"org_opmin2.csv\")#We save the organised version in a csv file.\n",
    "            print(\"\\n>>Your data has been saved.\")\n",
    "            break\n",
    "        elif conf2 == \"N\":\n",
    "                while i== 0:\n",
    "                        print(\"\\n-> I guessed wrong, what's right? P/N\")\n",
    "                        conf3 = input()\n",
    "                        if conf3 == \"P\":\n",
    "                            feedback= \"Positive\"\n",
    "                            break\n",
    "                        elif conf3 == \"N\":\n",
    "                            feedback= \"Negative\"\n",
    "                            break\n",
    "                        else:\n",
    "                            print(\"\\n>>Please enter a valid character!!!\")\n",
    "                new_df = pd.read_csv(\"opmin2.csv\",usecols=[\"Text\",\"Label\"])\n",
    "                new_data = {\"Text\": text_orginal, \"Label\": feedback}\n",
    "                new_df.loc[len(new_df)] = new_data\n",
    "                new_df.to_csv(\"opmin2.csv\")#Here we save the predicted sentence in a new csv file labelled as new data.\n",
    "                new_org_df = pd.read_csv(\"org_opmin2.csv\",usecols=[\"Text\",\"Label\"])\n",
    "                label_df = pd.DataFrame([feedback],columns=[\"Label\"])\n",
    "                df_df= pd.concat([text_df,label_df],ignore_index= True,axis=1,)\n",
    "                df_df.columns =[\"Text\",\"Label\"]\n",
    "                new_org_df = pd.concat([new_org_df,df_df],ignore_index= True,axis=0)\n",
    "                new_org_df.to_csv(\"org_opmin2.csv\")#We save the organised version in a csv file.\n",
    "                print(\"\\n>>Your data has been saved.\")\n",
    "                break\n",
    "        else:\n",
    "            print(\"\\n>>Please enter a valid character!!!\")\n",
    "    elif conf1 == \"N\":\n",
    "            print(\"\\n>>Okay, I didn't save the data.\")\n",
    "            break\n",
    "    else:\n",
    "        print(\"\\n>>Please enter a valid character!!!\")\n",
    "#This loop may have been a little primitive."
   ]
  },
  {
   "cell_type": "code",
   "execution_count": null,
   "metadata": {},
   "outputs": [],
   "source": []
  }
 ],
 "metadata": {
  "kernelspec": {
   "display_name": "Python 3",
   "language": "python",
   "name": "python3"
  },
  "language_info": {
   "codemirror_mode": {
    "name": "ipython",
    "version": 3
   },
   "file_extension": ".py",
   "mimetype": "text/x-python",
   "name": "python",
   "nbconvert_exporter": "python",
   "pygments_lexer": "ipython3",
   "version": "3.11.4"
  },
  "orig_nbformat": 4
 },
 "nbformat": 4,
 "nbformat_minor": 2
}
